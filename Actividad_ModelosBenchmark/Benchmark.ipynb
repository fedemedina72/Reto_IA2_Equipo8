{
 "cells": [
  {
   "cell_type": "markdown",
   "metadata": {},
   "source": [
    "# Face Recognition utilizando Haar Cascade"
   ]
  },
  {
   "cell_type": "code",
   "execution_count": 1,
   "metadata": {},
   "outputs": [],
   "source": [
    "import cv2\n",
    "import sys\n",
    "import numpy\n",
    "import os "
   ]
  },
  {
   "cell_type": "code",
   "execution_count": 2,
   "metadata": {},
   "outputs": [],
   "source": [
    "haar_file = 'haarcascade_frontalface_default.xml'\n",
    "datasets = 'FotosPruebaHaar'\n",
    "sub_data = 'Federico'  # Nombre de quien se le hara la prueba"
   ]
  },
  {
   "cell_type": "code",
   "execution_count": 3,
   "metadata": {},
   "outputs": [],
   "source": [
    "path = os.path.join(datasets, sub_data) \n",
    "if not os.path.isdir(path): \n",
    "    os.mkdir(path) \n",
    "\n",
    "(width, height) = (130, 100) \n",
    "face_cascade = cv2.CascadeClassifier(haar_file)  "
   ]
  },
  {
   "cell_type": "markdown",
   "metadata": {},
   "source": [
    "### Toma de fotos para entrenar el modelo"
   ]
  },
  {
   "cell_type": "code",
   "execution_count": 4,
   "metadata": {},
   "outputs": [],
   "source": [
    "webcam = cv2.VideoCapture(0) \n",
    "count = 1\n",
    "while count < 30:  \n",
    "    (_, im) = webcam.read() \n",
    "    gray = cv2.cvtColor(im, cv2.COLOR_BGR2GRAY) \n",
    "    faces = face_cascade.detectMultiScale(gray, 1.3, 4) \n",
    "    for (x, y, w, h) in faces: \n",
    "        cv2.rectangle(im, (x, y), (x + w, y + h), (255, 0, 0), 2) \n",
    "        face = gray[y:y + h, x:x + w] \n",
    "        face_resize = cv2.resize(face, (width, height)) \n",
    "        cv2.imwrite('% s/% s.png' % (path, count), face_resize) \n",
    "    count += 1\n",
    "      \n",
    "    cv2.imshow('OpenCV', im) \n",
    "    key = cv2.waitKey(10) \n",
    "    if key == 27: \n",
    "        break"
   ]
  },
  {
   "cell_type": "markdown",
   "metadata": {},
   "source": [
    "### Ejecución del modelo"
   ]
  },
  {
   "cell_type": "code",
   "execution_count": 5,
   "metadata": {},
   "outputs": [],
   "source": [
    "# Create a list of images and a list of corresponding names \n",
    "(images, labels, names, id) = ([], [], {}, 0) \n",
    "for (subdirs, dirs, files) in os.walk(datasets): \n",
    "    for subdir in dirs: \n",
    "        names[id] = subdir \n",
    "        subjectpath = os.path.join(datasets, subdir) \n",
    "        for filename in os.listdir(subjectpath): \n",
    "            path = subjectpath + '/' + filename \n",
    "            label = id\n",
    "            images.append(cv2.imread(path, 0)) \n",
    "            labels.append(int(label)) \n",
    "        id += 1\n",
    "(width, height) = (130, 100) \n",
    "\n",
    "(images, labels) = [numpy.array(lis) for lis in [images, labels]] "
   ]
  },
  {
   "cell_type": "code",
   "execution_count": 6,
   "metadata": {},
   "outputs": [],
   "source": [
    "model = cv2.face.LBPHFaceRecognizer_create() \n",
    "model.train(images, labels) "
   ]
  },
  {
   "cell_type": "code",
   "execution_count": 7,
   "metadata": {},
   "outputs": [
    {
     "ename": "KeyboardInterrupt",
     "evalue": "",
     "output_type": "error",
     "traceback": [
      "\u001b[0;31m---------------------------------------------------------------------------\u001b[0m",
      "\u001b[0;31mKeyboardInterrupt\u001b[0m                         Traceback (most recent call last)",
      "Cell \u001b[0;32mIn[7], line 11\u001b[0m\n\u001b[1;32m      9\u001b[0m face_resize \u001b[39m=\u001b[39m cv2\u001b[39m.\u001b[39mresize(face, (width, height)) \n\u001b[1;32m     10\u001b[0m \u001b[39m# Try to recognize the face \u001b[39;00m\n\u001b[0;32m---> 11\u001b[0m prediction \u001b[39m=\u001b[39m model\u001b[39m.\u001b[39;49mpredict(face_resize) \n\u001b[1;32m     12\u001b[0m cv2\u001b[39m.\u001b[39mrectangle(im, (x, y), (x \u001b[39m+\u001b[39m w, y \u001b[39m+\u001b[39m h), (\u001b[39m0\u001b[39m, \u001b[39m255\u001b[39m, \u001b[39m0\u001b[39m), \u001b[39m3\u001b[39m) \n\u001b[1;32m     14\u001b[0m \u001b[39mif\u001b[39;00m prediction[\u001b[39m1\u001b[39m]\u001b[39m<\u001b[39m\u001b[39m500\u001b[39m: \n",
      "\u001b[0;31mKeyboardInterrupt\u001b[0m: "
     ]
    }
   ],
   "source": [
    "webcam = cv2.VideoCapture(0) \n",
    "while True: \n",
    "    (_, im) = webcam.read() \n",
    "    gray = cv2.cvtColor(im, cv2.COLOR_BGR2GRAY) \n",
    "    faces = face_cascade.detectMultiScale(gray, 1.3, 5) \n",
    "    for (x, y, w, h) in faces: \n",
    "        cv2.rectangle(im, (x, y), (x + w, y + h), (255, 0, 0), 2) \n",
    "        face = gray[y:y + h, x:x + w] \n",
    "        face_resize = cv2.resize(face, (width, height)) \n",
    "        # Try to recognize the face \n",
    "        prediction = model.predict(face_resize) \n",
    "        cv2.rectangle(im, (x, y), (x + w, y + h), (0, 255, 0), 3) \n",
    "  \n",
    "        if prediction[1]<500: \n",
    "  \n",
    "           cv2.putText(im, '% s - %.0f' % \n",
    "(names[prediction[0]], prediction[1]), (x-10, y-10),  \n",
    "cv2.FONT_HERSHEY_PLAIN, 3, (0, 255, 0)) \n",
    "        else: \n",
    "          cv2.putText(im, 'not recognized',  \n",
    "(x-10, y-10), cv2.FONT_HERSHEY_PLAIN, 1, (0, 255, 0)) \n",
    "  \n",
    "    cv2.imshow('OpenCV', im) \n",
    "      \n",
    "    key = cv2.waitKey(10) \n",
    "    if key == 27: \n",
    "        break"
   ]
  },
  {
   "cell_type": "code",
   "execution_count": null,
   "metadata": {},
   "outputs": [],
   "source": []
  }
 ],
 "metadata": {
  "kernelspec": {
   "display_name": "face_recognition",
   "language": "python",
   "name": "python3"
  },
  "language_info": {
   "codemirror_mode": {
    "name": "ipython",
    "version": 3
   },
   "file_extension": ".py",
   "mimetype": "text/x-python",
   "name": "python",
   "nbconvert_exporter": "python",
   "pygments_lexer": "ipython3",
   "version": "3.11.5"
  },
  "orig_nbformat": 4
 },
 "nbformat": 4,
 "nbformat_minor": 2
}
