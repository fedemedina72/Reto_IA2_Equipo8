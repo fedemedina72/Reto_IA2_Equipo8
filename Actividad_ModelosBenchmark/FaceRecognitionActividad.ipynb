{
 "cells": [
  {
   "cell_type": "markdown",
   "metadata": {},
   "source": [
    "# Actividad face_recognition"
   ]
  },
  {
   "cell_type": "code",
   "execution_count": 1,
   "metadata": {},
   "outputs": [],
   "source": [
    "import face_recognition\n",
    "import cv2\n",
    "import numpy as np\n",
    "import tensorflow as tf\n",
    "import tensorflow_hub as hub\n",
    "from matplotlib import pyplot as plt\n",
    "import pandas as pd\n",
    "from datetime import date\n",
    "import os"
   ]
  },
  {
   "cell_type": "code",
   "execution_count": 2,
   "metadata": {},
   "outputs": [],
   "source": [
    "# función para obtener una lista con los nombres de los archivos de las imagenes\n",
    "\n",
    "def list_files_in_folder(folder_path):\n",
    "    file_names = []\n",
    "    for file in os.listdir(folder_path):\n",
    "        if os.path.isfile(os.path.join(folder_path, file)):\n",
    "            file_names.append(file)\n",
    "    return file_names"
   ]
  },
  {
   "cell_type": "code",
   "execution_count": 4,
   "metadata": {},
   "outputs": [
    {
     "ename": "KeyboardInterrupt",
     "evalue": "",
     "output_type": "error",
     "traceback": [
      "\u001b[0;31m---------------------------------------------------------------------------\u001b[0m",
      "\u001b[0;31mKeyboardInterrupt\u001b[0m                         Traceback (most recent call last)",
      "Cell \u001b[0;32mIn[4], line 76\u001b[0m\n\u001b[1;32m     72\u001b[0m         cv2\u001b[39m.\u001b[39mputText(frame, name, (left \u001b[39m+\u001b[39m \u001b[39m6\u001b[39m, bottom \u001b[39m-\u001b[39m \u001b[39m6\u001b[39m), font, \u001b[39m1.0\u001b[39m, (\u001b[39m255\u001b[39m, \u001b[39m255\u001b[39m, \u001b[39m255\u001b[39m), \u001b[39m1\u001b[39m)\n\u001b[1;32m     74\u001b[0m     cv2\u001b[39m.\u001b[39mimshow(\u001b[39m'\u001b[39m\u001b[39mVideo\u001b[39m\u001b[39m'\u001b[39m, frame)\n\u001b[0;32m---> 76\u001b[0m     \u001b[39mif\u001b[39;00m cv2\u001b[39m.\u001b[39;49mwaitKey(\u001b[39m1\u001b[39;49m) \u001b[39m&\u001b[39m \u001b[39m0xFF\u001b[39m \u001b[39m==\u001b[39m \u001b[39mord\u001b[39m(\u001b[39m'\u001b[39m\u001b[39mq\u001b[39m\u001b[39m'\u001b[39m):\n\u001b[1;32m     77\u001b[0m         \u001b[39mbreak\u001b[39;00m\n\u001b[1;32m     79\u001b[0m \u001b[39m# Release handle to the webcam\u001b[39;00m\n",
      "\u001b[0;31mKeyboardInterrupt\u001b[0m: "
     ]
    }
   ],
   "source": [
    "# Subir una foto de prueba y aprende a como reconocerla\n",
    "known_face_encodings = []\n",
    "known_face_names = []\n",
    "\n",
    "for i in list_files_in_folder('FotosPruebaFace_Recog'):\n",
    "    face = face_recognition.load_image_file(f\"FotosPruebaFace_Recog/{i}\")\n",
    "    face_face_encoding = face_recognition.face_encodings(face)[0]\n",
    "    \n",
    "    known_face_encodings.append(face_face_encoding)\n",
    "    known_face_names.append(i[:-5])\n",
    "\n",
    "\n",
    "#######################################\n",
    "\n",
    "video_capture = cv2.VideoCapture(0)\n",
    "\n",
    "process_this_frame = True\n",
    "while True:\n",
    "    # Se agarra un solo frame del video\n",
    "    ret, frame = video_capture.read()\n",
    "\n",
    "    # Solo se procesan algunos frames para ahorrar tiempo\n",
    "    if process_this_frame:\n",
    "        # Hacer el frame 1/4 de su tamaño original\n",
    "        small_frame = cv2.resize(frame, (0, 0), fx=0.25, fy=0.25)\n",
    "\n",
    "        # Convertir la imagen de BGR color (OpenCV) a RGB color (face_recognition)\n",
    "        rgb_small_frame = small_frame\n",
    "        \n",
    "        # Encontrar todas las caras y codigos en el frame\n",
    "        face_locations = face_recognition.face_locations(rgb_small_frame)\n",
    "        face_encodings = face_recognition.face_encodings(rgb_small_frame, face_locations)\n",
    "\n",
    "        face_names = []\n",
    "        for face_encoding in face_encodings:\n",
    "            \n",
    "            # Verifica si la cara hace match con alguna del dataset\n",
    "            matches = face_recognition.compare_faces(known_face_encodings, face_encoding, tolerance = 0.6)\n",
    "            name = \"Unknown\"\n",
    "\n",
    "            # En caso de que tenga dudas, pone la cara mas cerca a la de alguna del dataset\n",
    "            face_distances = face_recognition.face_distance(known_face_encodings, face_encoding)\n",
    "            best_match_index = np.argmin(face_distances)\n",
    "            if matches[best_match_index]:\n",
    "                name = known_face_names[best_match_index]\n",
    "\n",
    "            face_names.append(name)\n",
    "\n",
    "    process_this_frame = not process_this_frame\n",
    "    ret, frame = video_capture.read()\n",
    "            \n",
    "    # Cambiar de tamaño de la imagen\n",
    "    img = frame.copy()\n",
    "    img = tf.image.resize_with_pad(tf.expand_dims(img, axis=0), 384,640)\n",
    "    input_img = tf.cast(img, dtype=tf.int32)\n",
    "\n",
    "\n",
    "    # Mostrar resultados\n",
    "    for (top, right, bottom, left), name in zip(face_locations, face_names):\n",
    "        # Volver a poner las imagenes en tamaño orignal antes de reducirla a 1/4 de su tamaño\n",
    "        top *= 4\n",
    "        right *= 4\n",
    "        bottom *= 4\n",
    "        left *= 4\n",
    "\n",
    "        # Poner la caja alrededor de las caras\n",
    "        cv2.rectangle(frame, (left, top), (right, bottom), (0, 0, 255), 2)\n",
    "\n",
    "        # Poner los labels de las caras en la caja\n",
    "        cv2.rectangle(frame, (left, bottom - 35), (right, bottom), (0, 0, 255), cv2.FILLED)\n",
    "        font = cv2.FONT_HERSHEY_DUPLEX\n",
    "        cv2.putText(frame, name, (left + 6, bottom - 6), font, 1.0, (255, 255, 255), 1)\n",
    "\n",
    "    cv2.imshow('Video', frame)\n",
    "    \n",
    "    if cv2.waitKey(1) & 0xFF == ord('q'):\n",
    "        break\n",
    "\n",
    "# Release handle to the webcam\n",
    "video_capture.release()\n",
    "cv2.destroyAllWindows()"
   ]
  },
  {
   "cell_type": "code",
   "execution_count": null,
   "metadata": {},
   "outputs": [],
   "source": []
  }
 ],
 "metadata": {
  "kernelspec": {
   "display_name": "face_recognition",
   "language": "python",
   "name": "python3"
  },
  "language_info": {
   "codemirror_mode": {
    "name": "ipython",
    "version": 3
   },
   "file_extension": ".py",
   "mimetype": "text/x-python",
   "name": "python",
   "nbconvert_exporter": "python",
   "pygments_lexer": "ipython3",
   "version": "3.11.5"
  },
  "orig_nbformat": 4
 },
 "nbformat": 4,
 "nbformat_minor": 2
}
